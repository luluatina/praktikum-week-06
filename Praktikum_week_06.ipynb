{
  "nbformat": 4,
  "nbformat_minor": 0,
  "metadata": {
    "colab": {
      "provenance": [],
      "authorship_tag": "ABX9TyNxvmiPzao6fQnG8ru+vfqc",
      "include_colab_link": true
    },
    "kernelspec": {
      "name": "python3",
      "display_name": "Python 3"
    },
    "language_info": {
      "name": "python"
    }
  },
  "cells": [
    {
      "cell_type": "markdown",
      "metadata": {
        "id": "view-in-github",
        "colab_type": "text"
      },
      "source": [
        "<a href=\"https://colab.research.google.com/github/luluatina/praktikum-week-06/blob/main/Praktikum_week_06.ipynb\" target=\"_parent\"><img src=\"https://colab.research.google.com/assets/colab-badge.svg\" alt=\"Open In Colab\"/></a>"
      ]
    },
    {
      "cell_type": "code",
      "execution_count": 30,
      "metadata": {
        "colab": {
          "base_uri": "https://localhost:8080/"
        },
        "id": "SuRSag53ZKv2",
        "outputId": "318b1aaa-7834-4934-d636-9e74ec49c6d4"
      },
      "outputs": [
        {
          "output_type": "stream",
          "name": "stdout",
          "text": [
            "Masukkan jumlah baris segitiga: 7\n",
            "      * \n",
            "     * * \n",
            "    * * * \n",
            "   * * * * \n",
            "  * * * * * \n",
            " * * * * * * \n",
            "* * * * * * * \n"
          ]
        }
      ],
      "source": [
        "# Meminta input jumlah baris dari pengguna\n",
        "baris = int(input(\"Masukkan jumlah baris segitiga: \"))\n",
        "\n",
        "# Menampilkan segitiga bintang\n",
        "for i in range(baris):\n",
        "  # Cetak spasi di awal setiap baris\n",
        "  for j in range(baris - i - 1):\n",
        "    print(\" \", end=\"\")\n",
        "  # Cetak bintang di tengah setiap baris\n",
        "  for k in range(i + 1):\n",
        "    print(\"* \", end=\"\")\n",
        "  # Pindah ke baris baru\n",
        "  print()"
      ]
    },
    {
      "cell_type": "code",
      "source": [
        "# Meminta input jumlah baris segitiga pascal dari pengguna\n",
        "baris = int(input(\"Masukkan jumlah baris segitiga pascal: \"))\n",
        "\n",
        "# Menampilkan segitiga pascal\n",
        "for i in range(baris):\n",
        "  # Hitung spasi di awal baris\n",
        "  spasi = \" \" * (baris - i - 1)\n",
        "  print(spasi, end=\"\")\n",
        "\n",
        "  C = 1\n",
        "  for j in range(i + 1):\n",
        "    print(C, end=\" \")\n",
        "    C = C * (i - j) // (j + 1)\n",
        "  print(\"\")\n"
      ],
      "metadata": {
        "colab": {
          "base_uri": "https://localhost:8080/"
        },
        "id": "z_xVqoS6ddLM",
        "outputId": "6b1ac694-8f56-4b2d-f236-92dbe640b540"
      },
      "execution_count": 49,
      "outputs": [
        {
          "output_type": "stream",
          "name": "stdout",
          "text": [
            "Masukkan jumlah baris segitiga pascal: 5\n",
            "    1 \n",
            "   1 1 \n",
            "  1 2 1 \n",
            " 1 3 3 1 \n",
            "1 4 6 4 1 \n"
          ]
        }
      ]
    },
    {
      "cell_type": "code",
      "source": [
        "# Input dari pengguna\n",
        "baris_input = int(input(\"Masukkan nomor baris: \"))\n",
        "\n",
        "# Inisialisasi baris sebelumnya\n",
        "baris_sebelumnya = [1]\n",
        "\n",
        "# Hitung baris berikutnya secara iteratif\n",
        "for i in range(2, baris_input + 1):\n",
        "  baris_baru = [1]  # Setiap baris dimulai dan diakhiri dengan 1\n",
        "  for j in range(1, i - 1):\n",
        "    nilai = baris_sebelumnya[j - 1] + baris_sebelumnya[j]\n",
        "    baris_baru.append(nilai)\n",
        "  baris_baru.append(1)\n",
        "  baris_sebelumnya = baris_baru\n",
        "\n",
        "# Hitung dan cetak jumlah elemen pada baris terakhir\n",
        "hasil = sum(baris_baru)\n",
        "print(\"Jumlah elemen pada baris ke-\", baris_input, \"adalah\", hasil)"
      ],
      "metadata": {
        "colab": {
          "base_uri": "https://localhost:8080/"
        },
        "id": "tcHqGhQUxWel",
        "outputId": "67121ff7-95f1-4c88-b3e1-74a5741ad1d4"
      },
      "execution_count": 57,
      "outputs": [
        {
          "output_type": "stream",
          "name": "stdout",
          "text": [
            "Masukkan nomor baris: 5\n",
            "Jumlah elemen pada baris ke- 5 adalah 16\n"
          ]
        }
      ]
    }
  ]
}